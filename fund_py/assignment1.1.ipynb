{
 "cells": [
  {
   "cell_type": "markdown",
   "metadata": {},
   "source": [
    "# Warmup Assignment\n",
    "\n",
    "In this exercise you will just submit a ping to the grader in order to make sure the exercise and grading environment is setup correctly."
   ]
  },
  {
   "cell_type": "markdown",
   "metadata": {},
   "source": [
    "\n",
    "\n",
    "We have to install a little library in order to submit to coursera\n"
   ]
  },
  {
   "cell_type": "code",
   "execution_count": null,
   "metadata": {},
   "outputs": [],
   "source": [
    "!rm -f extra/rklib.py\n",
    "!wget https://raw.githubusercontent.com/IBM/coursera/master/rklib.py -O extra/rklib.py"
   ]
  },
  {
   "cell_type": "markdown",
   "metadata": {},
   "source": [
    "Please provide your email address and obtain a submission token on the grader’s submission page in coursera, then execute the cell"
   ]
  },
  {
   "cell_type": "code",
   "execution_count": 9,
   "metadata": {},
   "outputs": [
    {
     "name": "stdout",
     "output_type": "stream",
     "text": [
      "Submission successful, please check on the coursera grader page for the status\n",
      "-------------------------\n",
      "{\"elements\":[{\"itemId\":\"MV2rL\",\"id\":\"sUpST4RAEeawAApvKZgcCQ~MV2rL~F7P5C2SCEe236xLZG08qDw\",\"courseId\":\"sUpST4RAEeawAApvKZgcCQ\"}],\"paging\":{},\"linked\":{}}\n",
      "-------------------------\n"
     ]
    }
   ],
   "source": [
    "from extra.rklib import submit\n",
    "import json\n",
    "\n",
    "key = \"RrIb4SHNEeiLcw7AkKxwaA\"\n",
    "part = \"zetaj\"\n",
    "email = \"jesus.r.rosila.mares@lmco.com\"\n",
    "token = \"kjkaTipAANpPaHyn\"\n",
    "\n",
    "\n",
    "submit(email, token, key, part, [part], json.dumps(23))"
   ]
  }
 ],
 "metadata": {
  "kernelspec": {
   "display_name": "Python 3.10.8 64-bit",
   "language": "python",
   "name": "python3"
  },
  "language_info": {
   "codemirror_mode": {
    "name": "ipython",
    "version": 3
   },
   "file_extension": ".py",
   "mimetype": "text/x-python",
   "name": "python",
   "nbconvert_exporter": "python",
   "pygments_lexer": "ipython3",
   "version": "3.10.8"
  },
  "vscode": {
   "interpreter": {
    "hash": "7f683a2bcbd4cf793bfdeaa1622a424888a70270ced0a0ddc3bd2a7b122f3209"
   }
  }
 },
 "nbformat": 4,
 "nbformat_minor": 1
}
